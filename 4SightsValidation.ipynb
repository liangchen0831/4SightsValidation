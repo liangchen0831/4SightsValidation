{
 "cells": [
  {
   "cell_type": "code",
   "execution_count": 1,
   "id": "6a8f73ea-7c98-4e6c-b194-375ea53b99bf",
   "metadata": {},
   "outputs": [],
   "source": [
    "import matplotlib.pyplot as plt\n",
    "import pandas as pd\n",
    "from sklearn.linear_model import LinearRegression\n",
    "import numpy as np"
   ]
  },
  {
   "cell_type": "markdown",
   "id": "4ef76a63-e047-4eed-b80d-2c053b9af36b",
   "metadata": {},
   "source": [
    "## Loading & Pre-processing"
   ]
  },
  {
   "cell_type": "markdown",
   "id": "0a71a670-9fce-460f-8015-abf35435dd01",
   "metadata": {},
   "source": [
    "#### loading"
   ]
  },
  {
   "cell_type": "code",
   "execution_count": 2,
   "id": "897c0e31-1931-409d-9e31-d18c6bd4e68d",
   "metadata": {},
   "outputs": [],
   "source": [
    "df = pd.read_excel( 'SampleDataset.xlsx' )\n",
    "df.set_index( ['Date'], inplace=True )\n",
    "\n",
    "df['max'] = df[ ['Open', 'High', 'Low', 'Close'] ].max( axis = 1,  )\n",
    "df['min'] = df[ ['Open', 'High', 'Low', 'Close'] ].min( axis = 1 )\n",
    "df['daily_return'] =  [0] + list( ( ( df['Close'][1:].values - df['Close'][:(df.shape[0]-1)] ).values ) / df['Close'][:(df.shape[0]-1)].values )\n",
    "df['intraday_move'] = ( df['Close'] - df['Open'] ) / df['Open']"
   ]
  },
  {
   "cell_type": "markdown",
   "id": "b3621a6f-bb06-4d18-a262-981fac822fcc",
   "metadata": {},
   "source": [
    "#### detect potential errors"
   ]
  },
  {
   "cell_type": "code",
   "execution_count": 3,
   "id": "a189c9f8-76a1-4852-9829-ac707c642b9b",
   "metadata": {
    "tags": []
   },
   "outputs": [
    {
     "data": {
      "text/html": [
       "<div>\n",
       "<style scoped>\n",
       "    .dataframe tbody tr th:only-of-type {\n",
       "        vertical-align: middle;\n",
       "    }\n",
       "\n",
       "    .dataframe tbody tr th {\n",
       "        vertical-align: top;\n",
       "    }\n",
       "\n",
       "    .dataframe thead th {\n",
       "        text-align: right;\n",
       "    }\n",
       "</style>\n",
       "<table border=\"1\" class=\"dataframe\">\n",
       "  <thead>\n",
       "    <tr style=\"text-align: right;\">\n",
       "      <th></th>\n",
       "      <th>Signal</th>\n",
       "      <th>Open</th>\n",
       "      <th>High</th>\n",
       "      <th>Low</th>\n",
       "      <th>Close</th>\n",
       "      <th>Adj Close</th>\n",
       "      <th>max</th>\n",
       "      <th>min</th>\n",
       "      <th>daily_return</th>\n",
       "      <th>intraday_move</th>\n",
       "    </tr>\n",
       "    <tr>\n",
       "      <th>Date</th>\n",
       "      <th></th>\n",
       "      <th></th>\n",
       "      <th></th>\n",
       "      <th></th>\n",
       "      <th></th>\n",
       "      <th></th>\n",
       "      <th></th>\n",
       "      <th></th>\n",
       "      <th></th>\n",
       "      <th></th>\n",
       "    </tr>\n",
       "  </thead>\n",
       "  <tbody>\n",
       "    <tr>\n",
       "      <th>2018-03-19</th>\n",
       "      <td>18.660897</td>\n",
       "      <td>157.169998</td>\n",
       "      <td>157.210007</td>\n",
       "      <td>154.449997</td>\n",
       "      <td>196.279999</td>\n",
       "      <td>150.708221</td>\n",
       "      <td>196.279999</td>\n",
       "      <td>154.449997</td>\n",
       "      <td>0.243853</td>\n",
       "      <td>0.248839</td>\n",
       "    </tr>\n",
       "    <tr>\n",
       "      <th>2018-03-20</th>\n",
       "      <td>19.177721</td>\n",
       "      <td>156.669998</td>\n",
       "      <td>157.020004</td>\n",
       "      <td>155.770004</td>\n",
       "      <td>156.240005</td>\n",
       "      <td>150.669647</td>\n",
       "      <td>157.020004</td>\n",
       "      <td>155.770004</td>\n",
       "      <td>-0.203994</td>\n",
       "      <td>-0.002745</td>\n",
       "    </tr>\n",
       "  </tbody>\n",
       "</table>\n",
       "</div>"
      ],
      "text/plain": [
       "               Signal        Open        High         Low       Close  \\\n",
       "Date                                                                    \n",
       "2018-03-19  18.660897  157.169998  157.210007  154.449997  196.279999   \n",
       "2018-03-20  19.177721  156.669998  157.020004  155.770004  156.240005   \n",
       "\n",
       "             Adj Close         max         min  daily_return  intraday_move  \n",
       "Date                                                                         \n",
       "2018-03-19  150.708221  196.279999  154.449997      0.243853       0.248839  \n",
       "2018-03-20  150.669647  157.020004  155.770004     -0.203994      -0.002745  "
      ]
     },
     "execution_count": 3,
     "metadata": {},
     "output_type": "execute_result"
    }
   ],
   "source": [
    "df.loc[ df.daily_return.abs() > 0.1 ]"
   ]
  },
  {
   "cell_type": "code",
   "execution_count": 4,
   "id": "3cf72255-6186-438b-b823-2b74ac2e4986",
   "metadata": {
    "tags": []
   },
   "outputs": [
    {
     "data": {
      "text/html": [
       "<div>\n",
       "<style scoped>\n",
       "    .dataframe tbody tr th:only-of-type {\n",
       "        vertical-align: middle;\n",
       "    }\n",
       "\n",
       "    .dataframe tbody tr th {\n",
       "        vertical-align: top;\n",
       "    }\n",
       "\n",
       "    .dataframe thead th {\n",
       "        text-align: right;\n",
       "    }\n",
       "</style>\n",
       "<table border=\"1\" class=\"dataframe\">\n",
       "  <thead>\n",
       "    <tr style=\"text-align: right;\">\n",
       "      <th></th>\n",
       "      <th>Signal</th>\n",
       "      <th>Open</th>\n",
       "      <th>High</th>\n",
       "      <th>Low</th>\n",
       "      <th>Close</th>\n",
       "      <th>Adj Close</th>\n",
       "      <th>max</th>\n",
       "      <th>min</th>\n",
       "      <th>daily_return</th>\n",
       "      <th>intraday_move</th>\n",
       "    </tr>\n",
       "    <tr>\n",
       "      <th>Date</th>\n",
       "      <th></th>\n",
       "      <th></th>\n",
       "      <th></th>\n",
       "      <th></th>\n",
       "      <th></th>\n",
       "      <th></th>\n",
       "      <th></th>\n",
       "      <th></th>\n",
       "      <th></th>\n",
       "      <th></th>\n",
       "    </tr>\n",
       "  </thead>\n",
       "  <tbody>\n",
       "    <tr>\n",
       "      <th>2018-03-19</th>\n",
       "      <td>18.660897</td>\n",
       "      <td>157.169998</td>\n",
       "      <td>157.210007</td>\n",
       "      <td>154.449997</td>\n",
       "      <td>196.279999</td>\n",
       "      <td>150.708221</td>\n",
       "      <td>196.279999</td>\n",
       "      <td>154.449997</td>\n",
       "      <td>0.243853</td>\n",
       "      <td>0.248839</td>\n",
       "    </tr>\n",
       "  </tbody>\n",
       "</table>\n",
       "</div>"
      ],
      "text/plain": [
       "               Signal        Open        High         Low       Close  \\\n",
       "Date                                                                    \n",
       "2018-03-19  18.660897  157.169998  157.210007  154.449997  196.279999   \n",
       "\n",
       "             Adj Close         max         min  daily_return  intraday_move  \n",
       "Date                                                                         \n",
       "2018-03-19  150.708221  196.279999  154.449997      0.243853       0.248839  "
      ]
     },
     "execution_count": 4,
     "metadata": {},
     "output_type": "execute_result"
    }
   ],
   "source": [
    "df.loc[ df.intraday_move.abs() > 0.1 ]"
   ]
  },
  {
   "cell_type": "code",
   "execution_count": 5,
   "id": "db84512d-0e27-4f20-acdc-6506d78ed5fd",
   "metadata": {
    "tags": []
   },
   "outputs": [
    {
     "data": {
      "text/html": [
       "<div>\n",
       "<style scoped>\n",
       "    .dataframe tbody tr th:only-of-type {\n",
       "        vertical-align: middle;\n",
       "    }\n",
       "\n",
       "    .dataframe tbody tr th {\n",
       "        vertical-align: top;\n",
       "    }\n",
       "\n",
       "    .dataframe thead th {\n",
       "        text-align: right;\n",
       "    }\n",
       "</style>\n",
       "<table border=\"1\" class=\"dataframe\">\n",
       "  <thead>\n",
       "    <tr style=\"text-align: right;\">\n",
       "      <th></th>\n",
       "      <th>Signal</th>\n",
       "      <th>Open</th>\n",
       "      <th>High</th>\n",
       "      <th>Low</th>\n",
       "      <th>Close</th>\n",
       "      <th>Adj Close</th>\n",
       "      <th>max</th>\n",
       "      <th>min</th>\n",
       "      <th>daily_return</th>\n",
       "      <th>intraday_move</th>\n",
       "    </tr>\n",
       "    <tr>\n",
       "      <th>Date</th>\n",
       "      <th></th>\n",
       "      <th></th>\n",
       "      <th></th>\n",
       "      <th></th>\n",
       "      <th></th>\n",
       "      <th></th>\n",
       "      <th></th>\n",
       "      <th></th>\n",
       "      <th></th>\n",
       "      <th></th>\n",
       "    </tr>\n",
       "  </thead>\n",
       "  <tbody>\n",
       "    <tr>\n",
       "      <th>2017-08-07</th>\n",
       "      <td>16.298805</td>\n",
       "      <td>140.440002</td>\n",
       "      <td>140.350000</td>\n",
       "      <td>139.710007</td>\n",
       "      <td>140.440002</td>\n",
       "      <td>134.595871</td>\n",
       "      <td>140.440002</td>\n",
       "      <td>139.710007</td>\n",
       "      <td>0.001640</td>\n",
       "      <td>0.000000</td>\n",
       "    </tr>\n",
       "    <tr>\n",
       "      <th>2018-03-07</th>\n",
       "      <td>18.885411</td>\n",
       "      <td>154.460007</td>\n",
       "      <td>156.929993</td>\n",
       "      <td>157.220001</td>\n",
       "      <td>156.740005</td>\n",
       "      <td>151.151840</td>\n",
       "      <td>157.220001</td>\n",
       "      <td>154.460007</td>\n",
       "      <td>0.008818</td>\n",
       "      <td>0.014761</td>\n",
       "    </tr>\n",
       "    <tr>\n",
       "      <th>2018-03-19</th>\n",
       "      <td>18.660897</td>\n",
       "      <td>157.169998</td>\n",
       "      <td>157.210007</td>\n",
       "      <td>154.449997</td>\n",
       "      <td>196.279999</td>\n",
       "      <td>150.708221</td>\n",
       "      <td>196.279999</td>\n",
       "      <td>154.449997</td>\n",
       "      <td>0.243853</td>\n",
       "      <td>0.248839</td>\n",
       "    </tr>\n",
       "    <tr>\n",
       "      <th>2018-07-16</th>\n",
       "      <td>20.010313</td>\n",
       "      <td>167.759995</td>\n",
       "      <td>168.029999</td>\n",
       "      <td>169.960007</td>\n",
       "      <td>166.770004</td>\n",
       "      <td>161.779312</td>\n",
       "      <td>169.960007</td>\n",
       "      <td>166.770004</td>\n",
       "      <td>-0.003882</td>\n",
       "      <td>-0.005901</td>\n",
       "    </tr>\n",
       "    <tr>\n",
       "      <th>2018-12-06</th>\n",
       "      <td>16.904044</td>\n",
       "      <td>145.449997</td>\n",
       "      <td>147.099997</td>\n",
       "      <td>143.429993</td>\n",
       "      <td>147.199997</td>\n",
       "      <td>143.173874</td>\n",
       "      <td>147.199997</td>\n",
       "      <td>143.429993</td>\n",
       "      <td>-0.002169</td>\n",
       "      <td>0.012032</td>\n",
       "    </tr>\n",
       "    <tr>\n",
       "      <th>2019-10-17</th>\n",
       "      <td>18.878412</td>\n",
       "      <td>152.289993</td>\n",
       "      <td>153.309995</td>\n",
       "      <td>152.050003</td>\n",
       "      <td>153.339996</td>\n",
       "      <td>151.102173</td>\n",
       "      <td>153.339996</td>\n",
       "      <td>152.050003</td>\n",
       "      <td>0.011811</td>\n",
       "      <td>0.006895</td>\n",
       "    </tr>\n",
       "  </tbody>\n",
       "</table>\n",
       "</div>"
      ],
      "text/plain": [
       "               Signal        Open        High         Low       Close  \\\n",
       "Date                                                                    \n",
       "2017-08-07  16.298805  140.440002  140.350000  139.710007  140.440002   \n",
       "2018-03-07  18.885411  154.460007  156.929993  157.220001  156.740005   \n",
       "2018-03-19  18.660897  157.169998  157.210007  154.449997  196.279999   \n",
       "2018-07-16  20.010313  167.759995  168.029999  169.960007  166.770004   \n",
       "2018-12-06  16.904044  145.449997  147.099997  143.429993  147.199997   \n",
       "2019-10-17  18.878412  152.289993  153.309995  152.050003  153.339996   \n",
       "\n",
       "             Adj Close         max         min  daily_return  intraday_move  \n",
       "Date                                                                         \n",
       "2017-08-07  134.595871  140.440002  139.710007      0.001640       0.000000  \n",
       "2018-03-07  151.151840  157.220001  154.460007      0.008818       0.014761  \n",
       "2018-03-19  150.708221  196.279999  154.449997      0.243853       0.248839  \n",
       "2018-07-16  161.779312  169.960007  166.770004     -0.003882      -0.005901  \n",
       "2018-12-06  143.173874  147.199997  143.429993     -0.002169       0.012032  \n",
       "2019-10-17  151.102173  153.339996  152.050003      0.011811       0.006895  "
      ]
     },
     "execution_count": 5,
     "metadata": {},
     "output_type": "execute_result"
    }
   ],
   "source": [
    "df.loc[ df['High'] != df['max'] ]"
   ]
  },
  {
   "cell_type": "code",
   "execution_count": 6,
   "id": "d2aef47d-7b14-4014-ae07-75f7b0315926",
   "metadata": {
    "collapsed": true,
    "jupyter": {
     "outputs_hidden": true
    },
    "tags": []
   },
   "outputs": [
    {
     "data": {
      "text/html": [
       "<div>\n",
       "<style scoped>\n",
       "    .dataframe tbody tr th:only-of-type {\n",
       "        vertical-align: middle;\n",
       "    }\n",
       "\n",
       "    .dataframe tbody tr th {\n",
       "        vertical-align: top;\n",
       "    }\n",
       "\n",
       "    .dataframe thead th {\n",
       "        text-align: right;\n",
       "    }\n",
       "</style>\n",
       "<table border=\"1\" class=\"dataframe\">\n",
       "  <thead>\n",
       "    <tr style=\"text-align: right;\">\n",
       "      <th></th>\n",
       "      <th>Signal</th>\n",
       "      <th>Open</th>\n",
       "      <th>High</th>\n",
       "      <th>Low</th>\n",
       "      <th>Close</th>\n",
       "      <th>Adj Close</th>\n",
       "      <th>max</th>\n",
       "      <th>min</th>\n",
       "      <th>daily_return</th>\n",
       "      <th>intraday_move</th>\n",
       "    </tr>\n",
       "    <tr>\n",
       "      <th>Date</th>\n",
       "      <th></th>\n",
       "      <th></th>\n",
       "      <th></th>\n",
       "      <th></th>\n",
       "      <th></th>\n",
       "      <th></th>\n",
       "      <th></th>\n",
       "      <th></th>\n",
       "      <th></th>\n",
       "      <th></th>\n",
       "    </tr>\n",
       "  </thead>\n",
       "  <tbody>\n",
       "    <tr>\n",
       "      <th>2017-07-04</th>\n",
       "      <td>15.282748</td>\n",
       "      <td>141.339996</td>\n",
       "      <td>142.600000</td>\n",
       "      <td>141.400003</td>\n",
       "      <td>142.200006</td>\n",
       "      <td>135.700998</td>\n",
       "      <td>142.600000</td>\n",
       "      <td>141.339996</td>\n",
       "      <td>0.000704</td>\n",
       "      <td>0.006085</td>\n",
       "    </tr>\n",
       "    <tr>\n",
       "      <th>2017-09-11</th>\n",
       "      <td>15.838558</td>\n",
       "      <td>140.389999</td>\n",
       "      <td>140.919998</td>\n",
       "      <td>140.229996</td>\n",
       "      <td>139.110001</td>\n",
       "      <td>133.321198</td>\n",
       "      <td>140.919998</td>\n",
       "      <td>139.110001</td>\n",
       "      <td>0.000000</td>\n",
       "      <td>-0.009117</td>\n",
       "    </tr>\n",
       "    <tr>\n",
       "      <th>2017-09-12</th>\n",
       "      <td>15.518587</td>\n",
       "      <td>141.039993</td>\n",
       "      <td>141.690002</td>\n",
       "      <td>140.820007</td>\n",
       "      <td>139.110001</td>\n",
       "      <td>133.321198</td>\n",
       "      <td>141.690002</td>\n",
       "      <td>139.110001</td>\n",
       "      <td>0.000000</td>\n",
       "      <td>-0.013684</td>\n",
       "    </tr>\n",
       "    <tr>\n",
       "      <th>2017-09-13</th>\n",
       "      <td>16.158529</td>\n",
       "      <td>141.410004</td>\n",
       "      <td>142.220001</td>\n",
       "      <td>141.320007</td>\n",
       "      <td>139.110001</td>\n",
       "      <td>133.321198</td>\n",
       "      <td>142.220001</td>\n",
       "      <td>139.110001</td>\n",
       "      <td>0.000000</td>\n",
       "      <td>-0.016265</td>\n",
       "    </tr>\n",
       "    <tr>\n",
       "      <th>2017-09-14</th>\n",
       "      <td>16.478500</td>\n",
       "      <td>141.779999</td>\n",
       "      <td>142.160004</td>\n",
       "      <td>141.419998</td>\n",
       "      <td>139.110001</td>\n",
       "      <td>133.321198</td>\n",
       "      <td>142.160004</td>\n",
       "      <td>139.110001</td>\n",
       "      <td>0.000000</td>\n",
       "      <td>-0.018832</td>\n",
       "    </tr>\n",
       "    <tr>\n",
       "      <th>2017-09-15</th>\n",
       "      <td>15.198617</td>\n",
       "      <td>141.639999</td>\n",
       "      <td>142.470001</td>\n",
       "      <td>141.550003</td>\n",
       "      <td>139.110001</td>\n",
       "      <td>133.321198</td>\n",
       "      <td>142.470001</td>\n",
       "      <td>139.110001</td>\n",
       "      <td>0.000000</td>\n",
       "      <td>-0.017862</td>\n",
       "    </tr>\n",
       "    <tr>\n",
       "      <th>2017-09-18</th>\n",
       "      <td>15.518587</td>\n",
       "      <td>142.619995</td>\n",
       "      <td>143.809998</td>\n",
       "      <td>142.600006</td>\n",
       "      <td>139.110001</td>\n",
       "      <td>133.321198</td>\n",
       "      <td>143.809998</td>\n",
       "      <td>139.110001</td>\n",
       "      <td>0.000000</td>\n",
       "      <td>-0.024611</td>\n",
       "    </tr>\n",
       "    <tr>\n",
       "      <th>2017-09-19</th>\n",
       "      <td>16.798471</td>\n",
       "      <td>143.570007</td>\n",
       "      <td>143.690002</td>\n",
       "      <td>143.089996</td>\n",
       "      <td>139.110001</td>\n",
       "      <td>133.321198</td>\n",
       "      <td>143.690002</td>\n",
       "      <td>139.110001</td>\n",
       "      <td>0.000000</td>\n",
       "      <td>-0.031065</td>\n",
       "    </tr>\n",
       "    <tr>\n",
       "      <th>2017-09-20</th>\n",
       "      <td>15.953688</td>\n",
       "      <td>143.529999</td>\n",
       "      <td>144.020004</td>\n",
       "      <td>143.259995</td>\n",
       "      <td>139.110001</td>\n",
       "      <td>133.321198</td>\n",
       "      <td>144.020004</td>\n",
       "      <td>139.110001</td>\n",
       "      <td>0.000000</td>\n",
       "      <td>-0.030795</td>\n",
       "    </tr>\n",
       "    <tr>\n",
       "      <th>2017-09-21</th>\n",
       "      <td>16.004491</td>\n",
       "      <td>144.020004</td>\n",
       "      <td>144.259995</td>\n",
       "      <td>143.479996</td>\n",
       "      <td>139.110001</td>\n",
       "      <td>133.321198</td>\n",
       "      <td>144.259995</td>\n",
       "      <td>139.110001</td>\n",
       "      <td>0.000000</td>\n",
       "      <td>-0.034093</td>\n",
       "    </tr>\n",
       "    <tr>\n",
       "      <th>2017-09-22</th>\n",
       "      <td>16.997600</td>\n",
       "      <td>143.669998</td>\n",
       "      <td>144.669998</td>\n",
       "      <td>143.559998</td>\n",
       "      <td>139.110001</td>\n",
       "      <td>133.321198</td>\n",
       "      <td>144.669998</td>\n",
       "      <td>139.110001</td>\n",
       "      <td>0.000000</td>\n",
       "      <td>-0.031739</td>\n",
       "    </tr>\n",
       "    <tr>\n",
       "      <th>2018-03-07</th>\n",
       "      <td>18.885411</td>\n",
       "      <td>154.460007</td>\n",
       "      <td>156.929993</td>\n",
       "      <td>157.220001</td>\n",
       "      <td>156.740005</td>\n",
       "      <td>151.151840</td>\n",
       "      <td>157.220001</td>\n",
       "      <td>154.460007</td>\n",
       "      <td>0.008818</td>\n",
       "      <td>0.014761</td>\n",
       "    </tr>\n",
       "    <tr>\n",
       "      <th>2018-07-16</th>\n",
       "      <td>20.010313</td>\n",
       "      <td>167.759995</td>\n",
       "      <td>168.029999</td>\n",
       "      <td>169.960007</td>\n",
       "      <td>166.770004</td>\n",
       "      <td>161.779312</td>\n",
       "      <td>169.960007</td>\n",
       "      <td>166.770004</td>\n",
       "      <td>-0.003882</td>\n",
       "      <td>-0.005901</td>\n",
       "    </tr>\n",
       "    <tr>\n",
       "      <th>2018-10-19</th>\n",
       "      <td>17.461385</td>\n",
       "      <td>155.470001</td>\n",
       "      <td>156.360001</td>\n",
       "      <td>154.740005</td>\n",
       "      <td>153.360001</td>\n",
       "      <td>149.165390</td>\n",
       "      <td>156.360001</td>\n",
       "      <td>153.360001</td>\n",
       "      <td>-0.010581</td>\n",
       "      <td>-0.013572</td>\n",
       "    </tr>\n",
       "    <tr>\n",
       "      <th>2019-06-10</th>\n",
       "      <td>19.055083</td>\n",
       "      <td>151.449997</td>\n",
       "      <td>153.139999</td>\n",
       "      <td>152.449997</td>\n",
       "      <td>151.750000</td>\n",
       "      <td>148.488159</td>\n",
       "      <td>153.139999</td>\n",
       "      <td>151.449997</td>\n",
       "      <td>0.005900</td>\n",
       "      <td>0.001981</td>\n",
       "    </tr>\n",
       "    <tr>\n",
       "      <th>2019-09-24</th>\n",
       "      <td>18.630976</td>\n",
       "      <td>155.149994</td>\n",
       "      <td>155.289993</td>\n",
       "      <td>152.839996</td>\n",
       "      <td>152.429993</td>\n",
       "      <td>150.205444</td>\n",
       "      <td>155.289993</td>\n",
       "      <td>152.429993</td>\n",
       "      <td>-0.018544</td>\n",
       "      <td>-0.017531</td>\n",
       "    </tr>\n",
       "  </tbody>\n",
       "</table>\n",
       "</div>"
      ],
      "text/plain": [
       "               Signal        Open        High         Low       Close  \\\n",
       "Date                                                                    \n",
       "2017-07-04  15.282748  141.339996  142.600000  141.400003  142.200006   \n",
       "2017-09-11  15.838558  140.389999  140.919998  140.229996  139.110001   \n",
       "2017-09-12  15.518587  141.039993  141.690002  140.820007  139.110001   \n",
       "2017-09-13  16.158529  141.410004  142.220001  141.320007  139.110001   \n",
       "2017-09-14  16.478500  141.779999  142.160004  141.419998  139.110001   \n",
       "2017-09-15  15.198617  141.639999  142.470001  141.550003  139.110001   \n",
       "2017-09-18  15.518587  142.619995  143.809998  142.600006  139.110001   \n",
       "2017-09-19  16.798471  143.570007  143.690002  143.089996  139.110001   \n",
       "2017-09-20  15.953688  143.529999  144.020004  143.259995  139.110001   \n",
       "2017-09-21  16.004491  144.020004  144.259995  143.479996  139.110001   \n",
       "2017-09-22  16.997600  143.669998  144.669998  143.559998  139.110001   \n",
       "2018-03-07  18.885411  154.460007  156.929993  157.220001  156.740005   \n",
       "2018-07-16  20.010313  167.759995  168.029999  169.960007  166.770004   \n",
       "2018-10-19  17.461385  155.470001  156.360001  154.740005  153.360001   \n",
       "2019-06-10  19.055083  151.449997  153.139999  152.449997  151.750000   \n",
       "2019-09-24  18.630976  155.149994  155.289993  152.839996  152.429993   \n",
       "\n",
       "             Adj Close         max         min  daily_return  intraday_move  \n",
       "Date                                                                         \n",
       "2017-07-04  135.700998  142.600000  141.339996      0.000704       0.006085  \n",
       "2017-09-11  133.321198  140.919998  139.110001      0.000000      -0.009117  \n",
       "2017-09-12  133.321198  141.690002  139.110001      0.000000      -0.013684  \n",
       "2017-09-13  133.321198  142.220001  139.110001      0.000000      -0.016265  \n",
       "2017-09-14  133.321198  142.160004  139.110001      0.000000      -0.018832  \n",
       "2017-09-15  133.321198  142.470001  139.110001      0.000000      -0.017862  \n",
       "2017-09-18  133.321198  143.809998  139.110001      0.000000      -0.024611  \n",
       "2017-09-19  133.321198  143.690002  139.110001      0.000000      -0.031065  \n",
       "2017-09-20  133.321198  144.020004  139.110001      0.000000      -0.030795  \n",
       "2017-09-21  133.321198  144.259995  139.110001      0.000000      -0.034093  \n",
       "2017-09-22  133.321198  144.669998  139.110001      0.000000      -0.031739  \n",
       "2018-03-07  151.151840  157.220001  154.460007      0.008818       0.014761  \n",
       "2018-07-16  161.779312  169.960007  166.770004     -0.003882      -0.005901  \n",
       "2018-10-19  149.165390  156.360001  153.360001     -0.010581      -0.013572  \n",
       "2019-06-10  148.488159  153.139999  151.449997      0.005900       0.001981  \n",
       "2019-09-24  150.205444  155.289993  152.429993     -0.018544      -0.017531  "
      ]
     },
     "execution_count": 6,
     "metadata": {},
     "output_type": "execute_result"
    }
   ],
   "source": [
    "df.loc[ df['Low'] != df['min'] ]"
   ]
  },
  {
   "cell_type": "markdown",
   "id": "4b513d7b-d0aa-49a0-bf3b-c566930be274",
   "metadata": {},
   "source": [
    "#### fix errors"
   ]
  },
  {
   "cell_type": "code",
   "execution_count": 7,
   "id": "41b7c3f6-ea6f-4070-b380-0c5047afb7a1",
   "metadata": {},
   "outputs": [],
   "source": [
    "df.loc[ df.intraday_move.abs() > 0.1, 'Close'] = ( df.loc[ df.intraday_move.abs() > 0.1 ]['High'] + df.loc[ df.intraday_move.abs() > 0.1 ]['Low'] ).values/2\n",
    "df['max'] = df[ ['Open', 'High', 'Low', 'Close'] ].max( axis = 1,  )\n",
    "df['min'] = df[ ['Open', 'High', 'Low', 'Close'] ].min( axis = 1 )\n",
    "df['daily_return'] =  [0] + list( ( ( df['Close'][1:].values - df['Close'][:(df.shape[0]-1)] ).values ) / df['Close'][:(df.shape[0]-1)].values )\n",
    "df['intraday_move'] = ( df['Close'] - df['Open'] ) / df['Open']\n",
    "df['High'] = df['max']\n",
    "df['Low'] = df['min']"
   ]
  },
  {
   "cell_type": "code",
   "execution_count": 8,
   "id": "a1c893f8-43aa-457d-a59a-5cf4b918b954",
   "metadata": {},
   "outputs": [
    {
     "data": {
      "text/plain": [
       "<AxesSubplot:xlabel='Date'>"
      ]
     },
     "execution_count": 8,
     "metadata": {},
     "output_type": "execute_result"
    },
    {
     "data": {
      "image/png": "[encoded data removed]",
      "text/plain": [
       "<Figure size 432x288 with 1 Axes>"
      ]
     },
     "metadata": {
      "needs_background": "light"
     },
     "output_type": "display_data"
    }
   ],
   "source": [
    "df.plot( y=['Close'])"
   ]
  },
  {
   "cell_type": "markdown",
   "id": "16ae6590-7549-4260-8a5a-da40336b4ed9",
   "metadata": {
    "tags": []
   },
   "source": [
    "## Implement Simple linear regression"
   ]
  },
  {
   "cell_type": "code",
   "execution_count": 9,
   "id": "83bf6bf5-70ca-434a-a3a5-c64280ee04ce",
   "metadata": {},
   "outputs": [],
   "source": [
    "df = df.loc[ df.Signal != 0 ]"
   ]
  },
  {
   "cell_type": "markdown",
   "id": "a24ea1a2-cf4c-4c5c-a96b-3e57e6303f8b",
   "metadata": {},
   "source": [
    "#### strong linear trend"
   ]
  },
  {
   "cell_type": "code",
   "execution_count": 10,
   "id": "21f1c9ae-c9ed-4621-b3f6-e4d06be64123",
   "metadata": {},
   "outputs": [
    {
     "data": {
      "text/plain": [
       "<matplotlib.collections.PathCollection at 0x16d5cc4b580>"
      ]
     },
     "execution_count": 10,
     "metadata": {},
     "output_type": "execute_result"
    },
    {
     "data": {
      "image/png": "[encoded data removed]",
      "text/plain": [
       "<Figure size 432x288 with 1 Axes>"
      ]
     },
     "metadata": {
      "needs_background": "light"
     },
     "output_type": "display_data"
    }
   ],
   "source": [
    "plt.scatter( df['Signal'], df['Close'])"
   ]
  },
  {
   "cell_type": "markdown",
   "id": "91e04683-f3e9-4cc8-9bbb-0acbff8c242e",
   "metadata": {},
   "source": [
    "#### Best fitting result by taking 7-days signals"
   ]
  },
  {
   "cell_type": "code",
   "execution_count": 11,
   "id": "65f5a136-d631-434e-aa58-000ef0d8496f",
   "metadata": {},
   "outputs": [
    {
     "name": "stdout",
     "output_type": "stream",
     "text": [
      "1 0.8679438364302876 0.8678155019661771\n",
      "2 0.9108875792146149 0.9107140399336308\n",
      "3 0.9281372716235453 0.9279269416868338\n",
      "4 0.9391213757159905 0.9388833361293473\n",
      "5 0.9464732774445619 0.9462111485388056\n",
      "6 0.9522900801877541 0.9520091581868969\n",
      "7 0.9568425445583478 0.9565454922593394\n",
      "8 0.9594363288995388 0.9591166152356928\n",
      "9 0.9609342592886974 0.9605871796575012\n",
      "10 0.9617310567649499 0.9613525311147515\n",
      "11 0.962297328205733 0.961886298087064\n",
      "12 0.9624627679833282 0.9620154524081543\n",
      "13 0.9625106416223665 0.9620257046483275\n",
      "14 0.9624703175679439 0.9619464735459611\n",
      "15 0.9623912910283822 0.9618277239608755\n",
      "16 0.9623321912386722 0.9617289030102626\n",
      "17 0.962297792320029 0.9616549261910826\n",
      "18 0.9622289166129446 0.9615456206320733\n",
      "19 0.9621481191915032 0.9614238636674736\n",
      "20 0.962071673820768 0.9613062181965655\n"
     ]
    },
    {
     "name": "stderr",
     "output_type": "stream",
     "text": [
      "C:\\Users\\llc_ucsb\\AppData\\Local\\Programs\\Python\\Python39\\lib\\site-packages\\pandas\\core\\frame.py:3607: SettingWithCopyWarning: \n",
      "A value is trying to be set on a copy of a slice from a DataFrame.\n",
      "Try using .loc[row_indexer,col_indexer] = value instead\n",
      "\n",
      "See the caveats in the documentation: https://pandas.pydata.org/pandas-docs/stable/user_guide/indexing.html#returning-a-view-versus-a-copy\n",
      "  self._set_item(key, value)\n"
     ]
    }
   ],
   "source": [
    "for i in range( 1, 21 ):\n",
    "    df['Signal_Lag'+str(i)] = [0]*i + list( df['Signal'][:(df.shape[0]-i) ].values )\n",
    "\n",
    "for k in range( 1, 21 ):\n",
    "    X1 = df[['Signal']+['Signal_Lag'+str(i) for i in range(1, k) ]][k:]\n",
    "    y1 = df['Close'][k:]\n",
    "    reg1 = LinearRegression().fit( X1, y1 )\n",
    "    print( k, reg1.score( X1, y1 ), 1 - (1-reg1.score(X1, y1))*(len(y1)-1)/(len(y1)-X1.shape[1]-1) )"
   ]
  },
  {
   "cell_type": "code",
   "execution_count": 12,
   "id": "28d3fe76-9a57-4a9a-9a96-8bd9ddfc36be",
   "metadata": {},
   "outputs": [
    {
     "data": {
      "text/plain": [
       "0.9568425445583478"
      ]
     },
     "execution_count": 12,
     "metadata": {},
     "output_type": "execute_result"
    }
   ],
   "source": [
    "X = df[['Signal']+['Signal_Lag'+str(i) for i in range(1, 7) ]][7:]\n",
    "y = df['Close'][7:]\n",
    "reg = LinearRegression().fit( X, y )\n",
    "reg.score( X, y )"
   ]
  },
  {
   "cell_type": "markdown",
   "id": "41f58133-cd7d-4182-a66c-e1cbfdd8992e",
   "metadata": {},
   "source": [
    "## BackTesting Performance"
   ]
  },
  {
   "cell_type": "code",
   "execution_count": 18,
   "id": "d2aa6c09-f938-47c4-b84e-8c695d4c7193",
   "metadata": {},
   "outputs": [],
   "source": [
    "def backTest( close, predict ):\n",
    "    updown = []\n",
    "    for i in range( len( close )-1 ):\n",
    "        if predict[i] > close[i]:\n",
    "            updown.append( 1 )\n",
    "        else:\n",
    "            updown.append( 0 )\n",
    "    \n",
    "    buys = [ close[0] ] if updown[0]==1 else []\n",
    "    sells = []\n",
    "    \n",
    "    for i in range( 1, len( updown ) ):\n",
    "        if updown[i-1] < updown[i]:\n",
    "            buys.append( close[i] )            \n",
    "        elif updown[i-1] > updown[i]:\n",
    "            sells.append( close[i] )    \n",
    "            \n",
    "    if len( buys ) > len( sells ):\n",
    "        sells.append( close[-1] )\n",
    "    elif len( buys ) < len( sells ):    \n",
    "        buys.append( close[-1] )\n",
    "    \n",
    "    ret = np.sum( ( np.array( sells ) - np.array( buys ) ) / np.array( buys ) )\n",
    "    \n",
    "    return ret"
   ]
  },
  {
   "cell_type": "code",
   "execution_count": 14,
   "id": "c097f354-bf72-49c5-8967-4b8fcb80b9e5",
   "metadata": {},
   "outputs": [],
   "source": [
    "ClosePrices_test = df['Close'][6:].values\n",
    "predicts         = reg.predict( X )"
   ]
  },
  {
   "cell_type": "markdown",
   "id": "a6c4311a-a142-4801-b3cb-0cc48969a75a",
   "metadata": {},
   "source": [
    "#### Calculate backtesting return \n",
    "##### strategy: buy&hold when predicted price > today's close"
   ]
  },
  {
   "cell_type": "code",
   "execution_count": 19,
   "id": "b6c250ff-9e61-4e38-8a41-64bf9112b7c5",
   "metadata": {},
   "outputs": [
    {
     "name": "stdout",
     "output_type": "stream",
     "text": [
      "Backtesting return is 106.96%\n"
     ]
    }
   ],
   "source": [
    "res = backTest( ClosePrices_test, predicts )\n",
    "print( 'Backtesting return is {:2.2%}'.format( res ) )"
   ]
  }
 ],
 "metadata": {
  "kernelspec": {
   "display_name": "Python 3 (ipykernel)",
   "language": "python",
   "name": "python3"
  },
  "language_info": {
   "codemirror_mode": {
    "name": "ipython",
    "version": 3
   },
   "file_extension": ".py",
   "mimetype": "text/x-python",
   "name": "python",
   "nbconvert_exporter": "python",
   "pygments_lexer": "ipython3",
   "version": "3.9.6"
  }
 },
 "nbformat": 4,
 "nbformat_minor": 5
}
